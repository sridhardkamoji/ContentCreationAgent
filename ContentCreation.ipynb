{
 "cells": [
  {
   "cell_type": "markdown",
   "id": "87bbb8ae-bfdd-428e-9bc2-a6ff0553ae4c",
   "metadata": {},
   "source": [
    "# Content Creator With Reflexion"
   ]
  },
  {
   "cell_type": "markdown",
   "id": "22edcba1-85ba-41a6-b908-bb4fd41fcbda",
   "metadata": {},
   "source": [
    "### Define Pydantic DataModels"
   ]
  },
  {
   "cell_type": "code",
   "execution_count": 1,
   "id": "1c1f9749-ba84-4810-aa5b-7a830113ff11",
   "metadata": {},
   "outputs": [],
   "source": [
    "from pydantic import BaseModel, Field\n",
    "from typing import List"
   ]
  },
  {
   "cell_type": "code",
   "execution_count": 2,
   "id": "b2fb67ae-3ead-4210-8e09-4287cb587051",
   "metadata": {
    "editable": true,
    "slideshow": {
     "slide_type": ""
    },
    "tags": []
   },
   "outputs": [],
   "source": [
    "class AnswerQuestion(BaseModel):\n",
    "    \"\"\"Answer the Question\"\"\"\n",
    "    # thought_process:str = Field(description=\"Thought process behind the answer. This is between the think tokens in the output of the model. <think>thought_process</think>\")\n",
    "    answer:str = Field(description= \"Extremely detailed answer to the question\")\n",
    "    search_queries: List[str] = Field(description=\"1-3 search queries for researching improvements to address the critique of your current answer\")\n",
    "    missing: str = Field(description=\"Critique of what information is missing\")\n",
    "    superfluous: str = Field(description=\"Critique of what is superfluous\")\n",
    "    \n",
    "    \n",
    "class ReviseAnswer(AnswerQuestion):\n",
    "    \"\"\"Revise your original answer to your question\"\"\"\n",
    "    references: List[str] = Field(description=\"Citations motivating your updated answer\")\n"
   ]
  },
  {
   "cell_type": "markdown",
   "id": "08cf2a2a-e816-4abd-b96d-3f8958c2ed97",
   "metadata": {},
   "source": [
    "### Define Chains"
   ]
  },
  {
   "cell_type": "code",
   "execution_count": 3,
   "id": "f0a78d8d-e087-4a51-8059-19a6b0d6f975",
   "metadata": {},
   "outputs": [],
   "source": [
    "from langchain.prompts import ChatPromptTemplate, MessagesPlaceholder\n",
    "import datetime\n",
    "from langchain_openai import ChatOpenAI\n",
    "from langchain_core.output_parsers.openai_tools import PydanticToolsParser, JsonOutputToolsParser\n",
    "from langchain_core.messages import HumanMessage\n",
    "from langchain.output_parsers import StructuredOutputParser, PydanticOutputParser"
   ]
  },
  {
   "cell_type": "code",
   "execution_count": 4,
   "id": "84b82f07-6420-4c01-9736-888760ab81e9",
   "metadata": {},
   "outputs": [],
   "source": [
    "actor_prompt_template = ChatPromptTemplate.from_messages(\n",
    "    [\n",
    "        (\n",
    "            \"system\",\n",
    "            \"\"\"You are an expert content creator who creates interesting, exciting and mind bending content for youtube and instagram.\n",
    "            Current time: {time}\n",
    "\n",
    "            1. {first_instruction}\n",
    "            2. Reflect and critique your answer. Be severe to maximize improvement.\n",
    "            3. Identify superflous information\n",
    "            4. After this, **list 1-3 search queries separately** for researching improvements. Do not include them inside the reflection.\n",
    "\n",
    "            You are required to provide the output in the following json format\n",
    "            {output_format}\n",
    "            \"\"\"\n",
    "        ),\n",
    "        MessagesPlaceholder(variable_name=\"messages\"),\n",
    "        (\"system\", \"Answer the user's question above using the required format\"),\n",
    "    ]\n",
    ").partial(\n",
    "    time= lambda: datetime.datetime.now().isoformat(),\n",
    ")"
   ]
  },
  {
   "cell_type": "code",
   "execution_count": 5,
   "id": "3479632e-e433-4c7c-a0a9-811cf63cb642",
   "metadata": {},
   "outputs": [],
   "source": [
    "format_prompt_template = ChatPromptTemplate.from_messages(\n",
    "    [\n",
    "        (\"system\", \"\"\"\n",
    "        You are helpful assistant who takes the input and structures in the given format\n",
    "        {input}\n",
    "\n",
    "        {format_instructions}\n",
    "        \"\"\")\n",
    "    ]\n",
    ")\n",
    "\n",
    "def get_output_format_prompt(pydantic_data_model, format_prompt_template):\n",
    "    parser = PydanticOutputParser(pydantic_object=pydantic_data_model)\n",
    "    format_instructions = parser.get_format_instructions()\n",
    "    format_prompt = format_prompt_template.partial(format_instructions = format_instructions)\n",
    "\n",
    "    return format_prompt"
   ]
  },
  {
   "cell_type": "code",
   "execution_count": 6,
   "id": "96b79d4a-1009-40f7-ba55-92b341073af5",
   "metadata": {},
   "outputs": [],
   "source": [
    "first_responder_output_instruction = f\"\"\"\n",
    "```json\n",
    "{AnswerQuestion.model_fields}\n",
    "```\n",
    "\"\"\"\n",
    "\n",
    "actor_agent_output_prompt = get_output_format_prompt(AnswerQuestion, format_prompt_template)"
   ]
  },
  {
   "cell_type": "code",
   "execution_count": 7,
   "id": "1ed8c133-efbf-41a0-855c-0d8f95150608",
   "metadata": {},
   "outputs": [],
   "source": [
    "revisor_output_instruction = f\"\"\"\n",
    "```json\n",
    "{ReviseAnswer.model_fields}\n",
    "```\n",
    "\"\"\"\n",
    "revisor_agent_output_prompt = get_output_format_prompt(pydantic_data_model=ReviseAnswer, format_prompt_template=format_prompt_template)"
   ]
  },
  {
   "cell_type": "code",
   "execution_count": 8,
   "id": "964c8cb8-85bb-429e-b3d6-6f9d6683cdf1",
   "metadata": {},
   "outputs": [],
   "source": [
    "# main_llm_model =  \"qwen2.5:32b\"\n",
    "main_llm_model =  \"qwen3:14b\"\n",
    "sub_llm_model = \"llama3.2:3b-instruct-fp16\"\n",
    "\n",
    "llm = ChatOpenAI(\n",
    "    api_key=\"ollama\",\n",
    "    model = main_llm_model,\n",
    "    base_url=\"http://localhost:11434/v1\",\n",
    "    temperature=0.9,\n",
    ")\n",
    "\n",
    "# using smaller model for output format\n",
    "output_llm = ChatOpenAI(\n",
    "    api_key=\"ollama\",\n",
    "    model=sub_llm_model,\n",
    "    base_url=\"http://localhost:11434/v1\",\n",
    "    temperature=0\n",
    ")"
   ]
  },
  {
   "cell_type": "code",
   "execution_count": 9,
   "id": "87649773-de62-430f-a4e9-220405c43c27",
   "metadata": {},
   "outputs": [],
   "source": [
    "first_responder_prompt_template = actor_prompt_template.partial(first_instruction = \"Provide a extremely detailed answer\", \n",
    "                                                                output_format = first_responder_output_instruction)\n",
    "\n",
    "first_responder_chain = first_responder_prompt_template | llm | actor_agent_output_prompt | output_llm.with_structured_output(schema=AnswerQuestion)"
   ]
  },
  {
   "cell_type": "code",
   "execution_count": 10,
   "id": "8f49b66f-66a4-4919-894d-7a7a2f32e1cc",
   "metadata": {},
   "outputs": [],
   "source": [
    "revise_instructions = \"\"\"Revise your previous answer using the new information.\n",
    "    - You should use the previous critique to add important information to your answer.\n",
    "        - You MUST include numerical citations in your revised answer to ensure it can be verified.\n",
    "        - Add a \"References\" section to the bottom of your answer (which does not count towards the word limit). In form of:\n",
    "            - [1] https://example.com\n",
    "            - [2] https://example.com\n",
    "    - You should use the previous critique to remove superfluous information from your answer.\n",
    "\"\"\""
   ]
  },
  {
   "cell_type": "code",
   "execution_count": 11,
   "id": "3bcce057-ebff-4f89-a0b8-b502a384cdc7",
   "metadata": {},
   "outputs": [],
   "source": [
    "revisor_chain = actor_prompt_template.partial(first_instruction=revise_instructions,\n",
    "                                              output_format = revisor_output_instruction) | llm | revisor_agent_output_prompt | output_llm.with_structured_output(schema=ReviseAnswer)"
   ]
  },
  {
   "cell_type": "code",
   "execution_count": 12,
   "id": "89ebcb42-f648-4595-a1d0-ed6543964ea6",
   "metadata": {},
   "outputs": [],
   "source": [
    "final_content_creator_prompt = ChatPromptTemplate.from_messages(\n",
    "    [\n",
    "        (\n",
    "            \"system\",\n",
    "            \"\"\"##Personality\n",
    "            You are an expert content creator who creates interesting, exciting and mind bending content for youtube and instagram from the given content.\n",
    "            You are given a user's query and answers from different agents and tools as observations which cover different aspects, topics and \\\n",
    "            nuances that are pertaining to the user's query. You are required to create an extremely detailed content from these observations covering all the points \\\n",
    "            which answer's the user questoin and you need to make sure the generated content is for sure going be a viral and reach Millions. \n",
    "            You are required to generate the content for the user query from the given observations only.\n",
    "            \"\"\"\n",
    "        ),\n",
    "        MessagesPlaceholder(variable_name=\"user_query\"),\n",
    "        MessagesPlaceholder(variable_name=\"observations\"),\n",
    "        (\n",
    "            \"system\",\n",
    "            \"Generate a VIRAL content for YOUTUBE and INSTAGRAM based on the user_query and observations\"\n",
    "        ),\n",
    "        MessagesPlaceholder(variable_name=\"enable_thinking\", optional=True)\n",
    "    ]\n",
    ")\n",
    "\n",
    "content_creator_chain = final_content_creator_prompt | llm"
   ]
  },
  {
   "cell_type": "markdown",
   "id": "9b0db3d8-98ce-4aea-8bc2-fabaa1c3b498",
   "metadata": {},
   "source": [
    "### Testing the chain"
   ]
  },
  {
   "cell_type": "code",
   "execution_count": 15,
   "id": "6a41af96-2585-4bdf-a7e2-5abb88e50ba0",
   "metadata": {
    "collapsed": true,
    "jupyter": {
     "outputs_hidden": true
    },
    "scrolled": true
   },
   "outputs": [
    {
     "name": "stdout",
     "output_type": "stream",
     "text": [
      "{\n",
      "    \"answer\": \"Instagram influencers can sometimes earn more than software developers due to a combination of factors related to income models, market dynamics, scalability, and visibility. Here\\\\u2019s a detailed breakdown:\\\\n\\\\n1. **Diverse Revenue Streams for Influencers**: Influencers typically monetize through brand partnerships, sponsored content, affiliate marketing, merchandise sales, and subscription-based models (e.g., Patreon). For example, a micro-influencer with 100,000 followers might earn $10\\\\u2013$50 per post, while a macro-influencer with millions of followers can command six figures per deal. Additionally, influencers often leverage their personal brand to launch products or services, which can generate passive income once established.\\\\n\\\\n2. **Scalability and Global Reach**: Content created by influencers can reach millions of people with minimal incremental cost. A single video or post can be repurposed across platforms (Instagram, TikTok, YouTube), maximizing exposure and revenue. In contrast, software developers\\\\u2019 income is often tied to direct employment or freelance projects, which may have limited scalability unless they create widely adopted software or tools.\\\\n\\\\n3. **Market Demand and Perceived Value**: The demand for social media influencers has surged as brands prioritize influencer marketing for targeted audience engagement. A 2023 report by HypeAuditor found that 72% of consumers trust influencer recommendations over traditional ads. Meanwhile, software developers\\\\u2019 salaries depend on factors like location, specialization (e.g., AI, blockchain), and company size. However, the tech industry\\\\u2019s competitive nature often drives high salaries, but not all developers earn as much as top-tier influencers.\\\\n\\\\n4. **Monetization Speed and Passive Income**: Influencers can start earning immediately, even with a small following, through services like paid shoutouts or affiliate links. Software developers, on the other hand, may take years to build a career or achieve high income, especially if they are early in their careers or in less lucrative industries.\\\\n\\\\n5. **Passive Income Potential**: Influencers with a large following can generate ongoing revenue through ad revenue, brand deals, or subscription tiers. Software developers might earn passive income via software sales or royalties, but this is less common and typically requires significant upfront effort (e.g., creating a widely used app or open-source tool).\\\\n\\\\nHowever, this dynamic is not universal. Top-tier software developers at FAANG companies or in high-demand fields (e.g., AI, cybersecurity) can earn significantly more than influencers. Additionally, influencer income is often unstable and dependent on trends, while developer salaries are generally more predictable. The comparison also depends on geographic factors, as tech hubs like Silicon Valley offer higher developer salaries than regions where influencer culture thrives (e.g., Los Angeles, New York).\",\n",
      "    \"search_queries\": [\n",
      "        \"Average income comparison between Instagram influencers and software developers by region 2025\",\n",
      "        \"Long-term financial stability of influencer vs. developer careers\",\n",
      "        \"Impact of AI and automation on influencer earnings and software developer salaries\"\n",
      "    ],\n",
      "    \"missing\": \"The answer lacks specific data on income distribution (e.g., how many influencers vs. developers earn more), regional variations, and the impact of platform algorithms on influencer earnings. It also does not address the long-term sustainability of influencer income compared to developer salaries or the role of education and skills in determining earnings.\",\n",
      "    \"superfluous\": \"The mention of subscription-based models (e.g., Patreon) and ad revenue could be more tightly integrated with the main points about income streams. The discussion on passive income is repeated in two sections and could be consolidated.\"\n",
      "}\n"
     ]
    }
   ],
   "source": [
    "response = first_responder_chain.invoke({\n",
    "    \"messages\": [HumanMessage(\"instagram influencers earning more than software developers\")]\n",
    "})\n",
    "print(response.model_dump_json(indent=4))"
   ]
  },
  {
   "cell_type": "code",
   "execution_count": 17,
   "id": "0fa7c6ed-adfe-44b0-bf7f-73c6fc374d00",
   "metadata": {
    "collapsed": true,
    "jupyter": {
     "outputs_hidden": true
    },
    "scrolled": true
   },
   "outputs": [
    {
     "name": "stdout",
     "output_type": "stream",
     "text": [
      "{\n",
      "    \"thought_process\": \"To address the question of Instagram influencers potentially earning more than software developers, I first need to analyze the economic dynamics of both professions. Software developers typically have stable, high salaries (e.g., $100k–$150k in the U.S.) with long-term career growth and benefits like equity or remote work. Influencers’ earnings are variable: top-tier creators (e.g., Kylie Jenner, MrBeast) can earn millions via brand deals, ads, and product sales, but the median income is far lower, often dependent on engagement rates, niche markets, and platform algorithms. The comparison hinges on outliers versus averages, short-term vs. long-term stability, and sector trends (e.g., AI disrupting tech jobs). I must balance these factors while avoiding outdated data or oversimplifications.\",\n",
      "    \"answer\": \"Instagram influencers and software developers represent two distinct high-earning careers, but their income structures and risks differ drastically. Top influencers like Kylie Jenner ($200M+ annually) or MrBeast ($150M+) leverage massive followings (100M+), brand partnerships, and viral content to achieve seven-figure incomes. However, these outliers are rare; the median influencer earns far less, often struggling with inconsistent pay, algorithmic changes, and fierce competition. In contrast, software developers in tech hubs (e.g., U.S.) earn stable salaries ($100k–$150k+) with career progression, stock options, and remote work flexibility. While senior developers in AI or cloud computing might match top influencers’ earnings, this requires decades of experience. Key differences include: 1) Income volatility: Influencers face unpredictable revenue from platform shifts or trending content, whereas developers benefit from steady demand for tech skills. 2) Longevity: Developers often enjoy 20–30 year careers with compounding expertise, while influencers risk burnout or irrelevance. 3) Global reach: A viral post can catapult an influencer to wealth overnight, but developers must navigate industry cycles and automation threats. Current trends—like AI tools enabling influencers to create content faster—may widen income disparities, but tech innovation could also disrupt developer roles. Ultimately, while top influencers may out-earn software developers in peak years, the latter’s profession offers far greater financial stability and long-term growth.\",\n",
      "    \"search_queries\": [\n",
      "        \"Top-earning Instagram influencers 2025 revenue breakdown\",\n",
      "        \"Average software developer salaries in 2025 by region and experience\",\n",
      "        \"Comparison of influencer marketing ROI vs. tech industry compensation trends\"\n",
      "    ],\n",
      "    \"missing\": \"The answer lacks data on emerging niches (e.g., micro-influencers vs. mega influencers) and their earning potential. It also ignores non-monetary rewards (job satisfaction, creativity) and regional income disparities (e.g., developers in India vs. developers in the EU). Additionally, the impact of AI on both industries remains speculative without concrete examples.\",\n",
      "    \"superfluous\": \"Discussion of MrBeast and Kylie Jenner adds little value unless tied to broader trends. The mention of AI tools for influencers is tangential unless directly comparing to developer tools like AI coding assistants. The conclusion’s speculative tone about ‘disrupting developer roles’ lacks evidence from recent 2025 data.\"\n",
      "}\n"
     ]
    }
   ],
   "source": [
    "response2 = first_responder_chain.invoke({\n",
    "    \"messages\": [HumanMessage(\"AI taking over the content creation\")]\n",
    "})\n",
    "print(response.model_dump_json(indent=4))"
   ]
  },
  {
   "cell_type": "code",
   "execution_count": 14,
   "id": "626ce48a-cc43-443d-9196-436dcb5bfe83",
   "metadata": {
    "collapsed": true,
    "jupyter": {
     "outputs_hidden": true
    },
    "scrolled": true
   },
   "outputs": [
    {
     "name": "stdout",
     "output_type": "stream",
     "text": [
      "{\n",
      "    \"answer\": \"The story of Lord Rama, a great king from Hindu mythology, has been retold and reinterpreted in various ways over the centuries. One of the most famous versions is the Ramayana, which tells the story of Rama's journey to rescue his wife Sita from the clutches of the demon king Ravana. The story begins with Rama's birth as a prince, raised by his stepmother Queen Kaikeyi and her husband King Dasharatha. However, Rama is actually the eldest son of King Dasharatha and his first wife, Queen Kaushalya. When Rama reaches adulthood, he is banished from the kingdom for 14 years due to a promise made by Queen Kaikeyi. This event sets off a chain reaction that leads to Rama's journey into the forest with his loyal brother Lakshman and his beloved wife Sita. In the forest, they face numerous challenges and dangers, but ultimately find solace in their love for each other and their devotion to dharma (duty). Meanwhile, back in the kingdom, Queen Kaikeyi's jealousy and ambition drive her to seek revenge against Rama and his family. She manipulates King Dasharatha into sending Rama away, and later plots to kill Sita when she returns to the kingdom. The story takes a dramatic turn when Ravana, the demon king of Lanka, kidnaps Sita and takes her to his palace. Rama and Lakshman embark on a perilous journey to rescue Sita, facing numerous obstacles and challenges along the way. With the help of Hanuman, a powerful monkey king, they eventually reach Lanka and engage in a fierce battle with Ravana's demons. In the end, Rama emerges victorious, rescues Sita, and returns home as a hero. The Ramayana is not only an epic tale of love and duty but also a rich tapestry of cultural and historical significance. It has been retold and reinterpreted in various forms of art, literature, and music throughout history, and continues to be celebrated and revered by people all over the world. The story's themes of loyalty, honor, and self-sacrifice have made it a timeless classic that transcends cultures and generations. As a moral lesson, the Ramayana teaches us about the importance of upholding dharma, respecting our elders, and standing up for what is right, even in the face of adversity. It also highlights the value of love, loyalty, and devotion, as exemplified by Rama's unwavering commitment to Sita and his family. In conclusion, the Ramayana is a rich and complex epic that offers a wealth of insights into human nature, culture, and society. Its themes and characters continue to captivate audiences around the world, making it an enduring and beloved classic.\",\n",
      "    \"search_queries\": [\n",
      "        \"Lord Rama mythology for children\",\n",
      "        \"Ramayana simplified storytelling techniques\",\n",
      "        \"Engaging narrative styles for kids' stories\"\n",
      "    ],\n",
      "    \"missing\": \"The answer lacks a clear moral lesson or takeaway that could be emphasized to children. Additionally, there is no mention of the cultural significance and impact of Lord Ram's story beyond India.\",\n",
      "    \"superfluous\": \"Some details about the battle between Ram and Ravana might have been simplified further for younger audiences.\"\n",
      "}\n"
     ]
    }
   ],
   "source": [
    "response = first_responder_chain.invoke({\n",
    "    \"messages\": [HumanMessage(\"write a story to kids telling about Lord RAM\")]\n",
    "})\n",
    "print(response.model_dump_json(indent=4))"
   ]
  },
  {
   "cell_type": "code",
   "execution_count": 17,
   "id": "3642c297-bd2e-4aa2-87cc-2aea6e9ea68a",
   "metadata": {
    "collapsed": true,
    "jupyter": {
     "outputs_hidden": true
    },
    "scrolled": true
   },
   "outputs": [
    {
     "name": "stdout",
     "output_type": "stream",
     "text": [
      "{\n",
      "    \"thought_process\": \"To address the query on maintaining a healthy lifestyle in Bangalore, I began by analyzing the city's unique environmental and cultural factors, such as its climate, urbanization, and tech-driven lifestyle. I structured the answer around key pillars: diet, exercise, mental health, and community engagement. I considered local challenges like air quality during summer and the need for cost-effective solutions. I also reflected on how to balance actionable advice with practicality for diverse demographics in Bangalore. The critique focused on avoiding overly generic suggestions and ensuring actionable, location-specific strategies.\",\n",
      "    \"answer\": \"Maintaining a healthy lifestyle in Bangalore requires adapting to the city's unique dynamics. First, diet should prioritize fresh, seasonal produce like millets, jackfruit, and arecanuts, which thrive in South India. Incorporate local markets for organic groceries and avoid overconsumption of processed foods, a common pitfall in urban centers. With the city's tech-driven hustle, hydration is critical; carry a reusable bottle and opt for buttermilk or coconut water to combat the dry winter winds. \\\\n\\\\nExercise must account for Bangalore's weather. Summer months (March-June) see soaring temperatures, so indoor workouts at gyms like Fitness First or Golds Gym or home-based yoga sessions are ideal. During monsoons and winters, outdoor activities like jogging at Cubbon Park or cycling around Lake Bellandur become feasible. Public transport options like BMTC buses or Metro reduce sedentary lifestyles, while apps like CRED offer carpooling incentives to cut pollution. \\\\n\\\\nMental health is often overlooked in Bangalore's competitive environment. Join local mindfulness groups at spaces like the Dhyan Sthal Wellness Centre or attend free yoga sessions at Lalbagh Botanical Garden. Digital detoxes are vital; limit screen time and engage with nature at Ulsoor or Rachenahalli Lake. \\\\n\\\\nCommunity engagement fosters well-being. Join clubs like Bangalore Walking or Cycling Group on Meetup for social, sustainable activities. For a cultural touch, attend weekly open-mic events at cafes like Cafe Coffee Day to de-stress. Finally, environmental health demands action: Support local green initiatives like the Save Our Lake movement or rooftop gardening in apartment complexes. \\\\n\\\\nBangalore's healthcare ecosystem is robust, but prevention is key. Regular check-ups at clinics like Apollo or Manipal ensure early detection of issues like high cholesterol, common in fast-paced urban lifestyles. Lastly, embrace the city's 'garden city' ethos by exploring its 700+ lakes and parks for daily walks, which also combat air pollution by staying in greener zones.\",\n",
      "    \"search_queries\": [\n",
      "        \"Best seasonal produce in Bangalore for health\",\n",
      "        \"Mental health resources for tech professionals in Bangalore\",\n",
      "        \"Bangalore air quality guidelines for outdoor exercise\"\n",
      "    ],\n",
      "    \"missing\": \"The answer lacks data on cost-effective healthy living options (e.g., affordable gyms, low-cost mental health apps) and deeper exploration of Bangalore-specific health risks like water contamination in certain areas. It also doesn't address how to navigate the city's traffic congestion for cyclists or hikers.\",\n",
      "    \"superfluous\": \"Mentioning specific gyms (Fitness First) and cafes (Cafe Coffee Day) adds unnecessary brand bias. Similarly, listing '700+ lakes' is vague without actionable examples. The focus on 'cultural touch' with open-mic events, while valid, could be streamlined to prioritize health-centric activities.\"\n",
      "}\n"
     ]
    }
   ],
   "source": [
    "response = first_responder_chain.invoke({\n",
    "    \"messages\": [HumanMessage(\"Maintaining a healthy lifestyle in bangalore\")]\n",
    "})\n",
    "print(response.model_dump_json(indent=4))"
   ]
  },
  {
   "cell_type": "code",
   "execution_count": 22,
   "id": "835fb947-d471-40f0-9730-9d9f141d99de",
   "metadata": {
    "collapsed": true,
    "jupyter": {
     "outputs_hidden": true
    },
    "scrolled": true
   },
   "outputs": [
    {
     "name": "stdout",
     "output_type": "stream",
     "text": [
      "{\n",
      "    \"thought_process\": \"To address the question of Instagram influencers potentially earning more than software developers, I first need to analyze the economic dynamics of both professions. Software developers typically have stable, high salaries (e.g., $100k–$150k in the U.S.) with long-term career growth and benefits like equity or remote work. Influencers’ earnings are variable: top-tier creators (e.g., Kylie Jenner, MrBeast) can earn millions via brand deals, ads, and product sales, but the median income is far lower, often dependent on engagement rates, niche markets, and platform algorithms. The comparison hinges on outliers versus averages, short-term vs. long-term stability, and sector trends (e.g., AI disrupting tech jobs). I must balance these factors while avoiding outdated data or oversimplifications.\",\n",
      "    \"answer\": \"Instagram influencers and software developers represent two distinct high-earning careers, but their income structures and risks differ drastically. Top influencers like Kylie Jenner ($200M+ annually) or MrBeast ($150M+) leverage massive followings (100M+), brand partnerships, and viral content to achieve seven-figure incomes. However, these outliers are rare; the median influencer earns far less, often struggling with inconsistent pay, algorithmic changes, and fierce competition. In contrast, software developers in tech hubs (e.g., U.S.) earn stable salaries ($100k–$150k+) with career progression, stock options, and remote work flexibility. While senior developers in AI or cloud computing might match top influencers’ earnings, this requires decades of experience. Key differences include: 1) Income volatility: Influencers face unpredictable revenue from platform shifts or trending content, whereas developers benefit from steady demand for tech skills. 2) Longevity: Developers often enjoy 20–30 year careers with compounding expertise, while influencers risk burnout or irrelevance. 3) Global reach: A viral post can catapult an influencer to wealth overnight, but developers must navigate industry cycles and automation threats. Current trends—like AI tools enabling influencers to create content faster—may widen income disparities, but tech innovation could also disrupt developer roles. Ultimately, while top influencers may out-earn software developers in peak years, the latter’s profession offers far greater financial stability and long-term growth.\",\n",
      "    \"search_queries\": [\n",
      "        \"Top-earning Instagram influencers 2025 revenue breakdown\",\n",
      "        \"Average software developer salaries in 2025 by region and experience\",\n",
      "        \"Comparison of influencer marketing ROI vs. tech industry compensation trends\"\n",
      "    ],\n",
      "    \"missing\": \"The answer lacks data on emerging niches (e.g., micro-influencers vs. mega influencers) and their earning potential. It also ignores non-monetary rewards (job satisfaction, creativity) and regional income disparities (e.g., developers in India vs. developers in the EU). Additionally, the impact of AI on both industries remains speculative without concrete examples.\",\n",
      "    \"superfluous\": \"Discussion of MrBeast and Kylie Jenner adds little value unless tied to broader trends. The mention of AI tools for influencers is tangential unless directly comparing to developer tools like AI coding assistants. The conclusion’s speculative tone about ‘disrupting developer roles’ lacks evidence from recent 2025 data.\"\n",
      "}\n"
     ]
    }
   ],
   "source": [
    "print(response.model_dump_json(indent=4))"
   ]
  },
  {
   "cell_type": "code",
   "execution_count": 24,
   "id": "ac7539cb-e26d-40c6-b738-4de559611fae",
   "metadata": {
    "collapsed": true,
    "jupyter": {
     "outputs_hidden": true
    },
    "scrolled": true
   },
   "outputs": [
    {
     "name": "stdout",
     "output_type": "stream",
     "text": [
      "{\n",
      "    \"thought_process\": \"The user asked about AI taking over content creation for YouTube and Instagram. I need to address current trends, tools, and implications. Start with AI's role in generating text, images, and videos, then discuss efficiency, ethical concerns, and human-AI collaboration. Highlight case studies (e.g., AI-generated viral content) and industry shifts. Ensure the critique identifies gaps like lack of quantitative data and potential oversimplification of ethical debates.\",\n",
      "    \"answer\": \"AI is revolutionizing content creation by automating tasks once reserved for humans. Platforms like YouTube and Instagram now see AI-generated videos, images, and scripts at unprecedented speeds. Tools such as MidJourney, DALL-E 3, and Runway ML enable creators to produce high-quality visuals and edits in seconds, while AI scriptwriters (e.g., Jasper, Copy.ai) generate engaging captions and storylines. Brands like Netflix and TikTok creators use AI to analyze audience preferences and tailor content for maximum engagement. For example, AI-generated short-form videos on TikTok have gone viral, blurring the line between human and machine creativity. However, this shift raises critical questions: Can AI replicate human nuance in storytelling? What about copyright issues when AI reuses training data? While AI boosts efficiency—reducing production costs by up to 60% in some sectors—it also risks oversaturation of generic content. Human creators are pivoting to focus on strategy, emotional resonance, and AI management. Yet, ethical dilemmas persist: deepfakes on Instagram, AI plagiarism, and the devaluation of human labor. The future may see AI as a collaborative partner rather than a replacement, but without robust guidelines, the industry risks losing authenticity. Creators must now master AI tools to stay competitive, blending algorithmic precision with human creativity.\",\n",
      "    \"search_queries\": [\n",
      "        \"Case studies of AI-generated content virality on TikTok 2025\",\n",
      "        \"Ethical guidelines for AI content creation in social media\",\n",
      "        \"Quantitative impact of AI on employment in content creation industries\"\n",
      "    ],\n",
      "    \"missing\": \"Data on specific AI efficiency improvements (e.g., cost reduction percentages), deeper exploration of regional adoption differences, and concrete examples of human-AI collaboration frameworks.\",\n",
      "    \"superfluous\": \"Vague references to 'audience preferences' without explaining AI's data-driven methods; redundant emphasis on 'efficiency' without contrasting human vs. AI workflows.\"\n",
      "}\n"
     ]
    }
   ],
   "source": [
    "print(response2.model_dump_json(indent=4))"
   ]
  },
  {
   "cell_type": "markdown",
   "id": "7211e242-b613-423f-b0dc-82495ca4acde",
   "metadata": {},
   "source": [
    "### Tools"
   ]
  },
  {
   "cell_type": "code",
   "execution_count": 13,
   "id": "cde34704-720e-45d0-81a3-e91fca206c30",
   "metadata": {},
   "outputs": [],
   "source": [
    "from dotenv import load_dotenv\n",
    "import os\n",
    "import json\n",
    "from typing import List, Dict, Any\n",
    "from langchain_core.messages import AIMessage, BaseMessage, ToolMessage, HumanMessage\n",
    "from langchain_community.tools import TavilySearchResults\n",
    "from langchain_core.tools import StructuredTool\n",
    "from langchain.tools import tool\n",
    "from langgraph.prebuilt import ToolNode"
   ]
  },
  {
   "cell_type": "code",
   "execution_count": 14,
   "id": "ec62d9a7-10c2-4a24-8f67-79d9a265b2f0",
   "metadata": {},
   "outputs": [
    {
     "name": "stdout",
     "output_type": "stream",
     "text": [
      "Tavily API Key loaded successfully.\n"
     ]
    }
   ],
   "source": [
    "# Load environment variables from .env file\n",
    "load_dotenv()\n",
    "\n",
    "# Access the Tavily API key\n",
    "tavily_api_key = os.getenv(\"TAVILY_API_KEY\")\n",
    "\n",
    "if tavily_api_key:\n",
    "    print(\"Tavily API Key loaded successfully.\")\n",
    "else:\n",
    "    print(\"Tavily API Key not found. Please check your .env file.\")"
   ]
  },
  {
   "cell_type": "code",
   "execution_count": 15,
   "id": "f997b457-94b6-44ee-b994-a054d48aa152",
   "metadata": {},
   "outputs": [],
   "source": [
    "from langchain_core.tools import StructuredTool\n",
    "\n",
    "from langgraph.prebuilt import ToolNode\n",
    "\n",
    "tavily_tool = TavilySearchResults(max_results=3)\n",
    "@tool\n",
    "def run_queries(search_queries: list[str]):\n",
    "    \"\"\"Run the generated queries.\"\"\"\n",
    "    return tavily_tool.batch([{\"query\": query} for query in search_queries])"
   ]
  },
  {
   "cell_type": "markdown",
   "id": "c6c3ffcb-c2b6-44bd-af3e-0b939c4fe752",
   "metadata": {},
   "source": [
    "### Graph"
   ]
  },
  {
   "cell_type": "code",
   "execution_count": 16,
   "id": "a27762ad-fbd5-405d-82fa-777cbd0ea1de",
   "metadata": {},
   "outputs": [],
   "source": [
    "from typing import List, Union\n",
    "from langchain_core.messages import BaseMessage, ToolMessage\n",
    "from langgraph.graph import END, MessageGraph, StateGraph, START\n",
    "from typing import Literal, Annotated\n",
    "from typing_extensions import TypedDict\n",
    "from langgraph.graph.message import add_messages\n",
    "from langchain_core.messages import ToolCall\n",
    "import uuid"
   ]
  },
  {
   "cell_type": "code",
   "execution_count": 17,
   "id": "a4ffebb0-b3e1-46bb-95c3-b706fd9d3b70",
   "metadata": {},
   "outputs": [],
   "source": [
    "MAX_ITERATIONS = 1\n",
    "\n",
    "class State(TypedDict):\n",
    "    user_query: HumanMessage\n",
    "    observations: List[AIMessage]\n",
    "    messages: Annotated[list, add_messages]\n",
    "    revise_answer_iterations: int\n",
    "    \n",
    "\n",
    "def responder_node(state:dict) -> dict:\n",
    "    response = first_responder_chain.invoke({'messages': state['messages']})\n",
    "    search_tool_call = ToolCall(id = str(uuid.uuid4()),\n",
    "                                name=response.__class__.__name__, \n",
    "                                args = {\"queries\":response.search_queries})\n",
    "    \n",
    "    ai_message = AIMessage(content=str(response.model_dump_json(exclude = 'search_queries', indent=4)), \n",
    "                           tool_calls=[search_tool_call])\n",
    "\n",
    "    print(f\"This is the response of the Responder Node :: \\n {ai_message}\")\n",
    "    \n",
    "    return {\"user_query\": state['messages'],\n",
    "            \"observations\": [AIMessage(content = \"Responder Agent:: \" + response.model_dump_json(include = 'answer'))],\n",
    "            \"messages\": state['messages'] + [ai_message],\n",
    "            \"revise_answer_iterations\": 0}\n",
    "\n",
    "def revisor_node(state:dict)-> dict:\n",
    "    \n",
    "    response = revisor_chain.invoke({'messages': state['messages']})\n",
    "    search_tool_call = ToolCall(id = str(uuid.uuid4()),\n",
    "                                name=response.__class__.__name__, \n",
    "                                args = {\"queries\":response.search_queries})\n",
    "    \n",
    "    ai_message = AIMessage(content=str(response.model_dump_json(exclude = 'search_queries', indent=4)), \n",
    "                           tool_calls=[search_tool_call])\n",
    "\n",
    "    print(f\"This is the response of the Revisor Node :: \\n {ai_message}\")\n",
    "    \n",
    "    return {\"user_query\": state['user_query'],\n",
    "            \"observations\": state[\"observations\"] + [AIMessage(content = \"Revisor Agent:: \" + response.model_dump_json(include = 'answer'))],\n",
    "            \"messages\": state['messages'] + [ai_message],\n",
    "            \"revise_answer_iterations\": state['revise_answer_iterations']}\n",
    "\n",
    "def execute_tools(state: dict) -> dict:\n",
    "    messages = state['messages']\n",
    "    last_ai_message: AIMessage = messages[-1]\n",
    "\n",
    "    if not hasattr(last_ai_message, \"tool_calls\") or not last_ai_message.tool_calls:\n",
    "        return []\n",
    "\n",
    "    tool_messages = []\n",
    "    tool_observations = []\n",
    "    for tool_call in last_ai_message.tool_calls:\n",
    "        if tool_call[\"name\"] in [\"AnswerQuestion\", \"ReviseAnswer\"]:\n",
    "            if tool_call[\"name\"] == 'ReviseAnswer':\n",
    "                print(f\"ToolCallName :: {tool_call[\"name\"]}\")\n",
    "                iterations = state['revise_answer_iterations'] + 1\n",
    "            else:\n",
    "                print(f\"ToolCallName :: {tool_call[\"name\"]}\")\n",
    "                iterations = state['revise_answer_iterations']\n",
    "            \n",
    "            call_id = tool_call[\"id\"]\n",
    "            search_queries = tool_call[\"args\"].get(\"queries\", [])\n",
    "            query_results_lst = run_queries.invoke({'search_queries': search_queries})\n",
    "            query_results = {query:query_result for query,query_result in zip(search_queries, query_results_lst)}\n",
    "            \n",
    "            # print(f\"toolName :: {tool_call['name']}\\ncallId :: {tool_call['id']}\\nsearch_queries :: {search_queries}\")\n",
    "            tool_messages.append(\n",
    "                ToolMessage(content=json.dumps(query_results),\n",
    "                            tool_call_id = call_id)\n",
    "            )\n",
    "            tool_observations.append(json.dumps(query_results))\n",
    "\n",
    "    tool_observations = '\\n'.join(tool_observations)\n",
    "    \n",
    "    return {\"user_query\": state['user_query'],\n",
    "            \"observations\": state[\"observations\"] + [AIMessage(content = \"Tool Executor Agent:: \" + tool_observations)],\n",
    "            \"messages\" : messages + tool_messages, \n",
    "            \"revise_answer_iterations\": iterations,\n",
    "           }\n",
    "\n",
    "def content_creator_node(state:dict)->dict:\n",
    "    user_query = state['user_query']\n",
    "    observations = state['observations']\n",
    "\n",
    "    fnl_content = content_creator_chain.invoke({\n",
    "    'user_query' : user_query,\n",
    "    'observations': observations,\n",
    "    'enable_thinking': ['/no_think']\n",
    "    })\n",
    "\n",
    "    return {\"user_query\": state['user_query'],\n",
    "            \"observations\": state[\"observations\"],\n",
    "            \"messages\" : state['messages'] + [fnl_content],\n",
    "            \"revise_answer_iterations\": state[\"revise_answer_iterations\"],\n",
    "           }\n",
    "    \n",
    "\n",
    "def event_loop(state: dict) -> Literal[\"content_creator\", \"execute_tools\"]:\n",
    "    num_iterations = state['revise_answer_iterations']\n",
    "    if num_iterations >= MAX_ITERATIONS:\n",
    "        return \"content_creator\"\n",
    "    else:\n",
    "        return \"execute_tools\"\n"
   ]
  },
  {
   "cell_type": "code",
   "execution_count": 18,
   "id": "c467e391-5c54-4b60-9092-85f2e2f70b5b",
   "metadata": {
    "scrolled": true
   },
   "outputs": [],
   "source": [
    "graph = StateGraph(State)\n",
    "\n",
    "graph.add_node('draft', responder_node)\n",
    "graph.add_node(\"execute_tools\", execute_tools)\n",
    "graph.add_node(\"revisor\", revisor_node)\n",
    "graph.add_node(\"content_creator\", content_creator_node)\n",
    "\n",
    "\n",
    "\n",
    "graph.add_edge(START, 'draft')\n",
    "graph.add_edge(\"draft\", 'execute_tools')\n",
    "# graph.add_edge(\"draft\", END)\n",
    "\n",
    "graph.add_edge('execute_tools', \"revisor\")\n",
    "graph.add_conditional_edges('revisor', event_loop)\n",
    "graph.add_edge(\"content_creator\", END)\n",
    "app = graph.compile()\n"
   ]
  },
  {
   "cell_type": "code",
   "execution_count": 19,
   "id": "643bc44d-d83d-4b7e-ba29-996ff33ac443",
   "metadata": {
    "scrolled": true
   },
   "outputs": [
    {
     "name": "stdout",
     "output_type": "stream",
     "text": [
      "---\n",
      "config:\n",
      "  flowchart:\n",
      "    curve: linear\n",
      "---\n",
      "graph TD;\n",
      "\t__start__([<p>__start__</p>]):::first\n",
      "\tdraft(draft)\n",
      "\texecute_tools(execute_tools)\n",
      "\trevisor(revisor)\n",
      "\tcontent_creator(content_creator)\n",
      "\t__end__([<p>__end__</p>]):::last\n",
      "\t__start__ --> draft;\n",
      "\tcontent_creator --> __end__;\n",
      "\tdraft --> execute_tools;\n",
      "\texecute_tools --> revisor;\n",
      "\trevisor -.-> content_creator;\n",
      "\trevisor -.-> execute_tools;\n",
      "\tclassDef default fill:#f2f0ff,line-height:1.2\n",
      "\tclassDef first fill-opacity:0\n",
      "\tclassDef last fill:#bfb6fc\n",
      "\n"
     ]
    }
   ],
   "source": [
    "print(app.get_graph().draw_mermaid())"
   ]
  },
  {
   "cell_type": "markdown",
   "id": "80ea2a06-cfee-4b96-8be0-71a6f6ab6e31",
   "metadata": {
    "jp-MarkdownHeadingCollapsed": true
   },
   "source": [
    "```mermaid\n",
    "---\n",
    "config:\n",
    "  flowchart:\n",
    "    curve: linear\n",
    "---\n",
    "graph TD;\n",
    "\t__start__([<p>__start__</p>]):::first\n",
    "\tdraft(draft)\n",
    "\texecute_tools(execute_tools)\n",
    "\trevisor(revisor)\n",
    "\tcontent_creator(content_creator)\n",
    "\t__end__([<p>__end__</p>]):::last\n",
    "\t__start__ --> draft;\n",
    "\tcontent_creator --> __end__;\n",
    "\tdraft --> execute_tools;\n",
    "\texecute_tools --> revisor;\n",
    "\trevisor -.-> content_creator;\n",
    "\trevisor -.-> execute_tools;\n",
    "\tclassDef default fill:#f2f0ff,line-height:1.2\n",
    "\tclassDef first fill-opacity:0\n",
    "\tclassDef last fill:#bfb6fc\n",
    "```"
   ]
  },
  {
   "cell_type": "code",
   "execution_count": 20,
   "id": "f513f120-5cd3-4d46-b5a1-4832fc977759",
   "metadata": {
    "scrolled": true
   },
   "outputs": [
    {
     "name": "stdout",
     "output_type": "stream",
     "text": [
      "This is the response of the Responder Node :: \n",
      " content='{\\n    \"answer\": \"Maintaining a healthy lifestyle for corporate professionals in Bangalore requires integrating physical, mental, and environmental considerations into a busy schedule. Here’s a detailed approach: 1. **Nutrition**: Opt for meal prepping with local ingredients from organic markets like Koramangala or Indiranagar. Avoid over-reliance on processed corporate cafeteria food. Incorporate South Indian healthy staples like dosa (without ghee), upma, and lentils. Use delivery services like HungerStation or Farm to Table for fresh, balanced meals. 2. **Exercise**: Leverage Bangalore’s green spaces: Jog or cycle in Cubbon Park, Nandi Hills, or along the Bellandur Lake (avoid during pollution peaks). Join yoga studios like YogaWorks or CorePower Yoga for structured sessions. Utilize workplace gym facilities or apps like Nike Training Club for at-home workouts during commutes. 3. **Mental Health**: Address stress with mindfulness practices. Attend meditation sessions at Satsang Bhavan or use apps like Headspace tailored to high-pressure professionals. Join Bangalore’s thriving wellness community (e.g., The Urban Monk Collective) for networking and support. 4. **Work-Life Balance**: Advocate for flexible hours if possible. Use ‘smart commutes’: combine office breaks with walks instead of sitting in traffic. Schedule weekend outdoor activities like rock climbing at Matheran (day trip) or attending cultural events at the NCPA to disconnect from work. 5. **Environmental Adaptation**: Monitor Bengaluru’s seasonal heat and monsoons. Stay hydrated with coconut water from local vendors, and use air purifiers in offices (e.g., Honeywell, Austin Air). Avoid peak-time pollution by exercising early morning or late evening. 6. **Sleep Hygiene**: Establish a strict bed-time routine, as Bengaluru’s nightlife might tempt late nights. Keep smartphones out of the bedroom to avoid blue light. Use blackout curtains and earplugs, especially if living near the airport. 7. **Local Resources**: Take advantage of corporate wellness programs (many companies like Mindtree, Infosys offer on-site health facilities). Join fitness challenges via LinkedIn groups for Bangalore professionals to stay motivated. 8. **Ergonomic Workspaces**: Combat 9-5 sitting with standing desks (available at FlexiSpot) or use a stability ball as a chair to engage core muscles. 9. **Screen Time Management**: Practice the 20-20-20 rule for eye strain: every 20 mins, look 20 ft away for 20 seconds. Combine with neck stretches using the ‘Head to Shoulder’ technique. 10. **Social Wellness**: Attend health-focused meetups like the Bangalore Foodie Meet or The Yoga Meet to build accountability networks.\",\\n    \"missing\": \"The answer could better quantify the impact of Bangalore’s specific environmental factors (e.g., monsoon-related air quality, seasonal heat intensity) on health strategies. It lacks data on local pollution trends and how they affect exercise recommendations. Also, it doesn’t address cultural-specific challenges, like the prevalence of non-veg office lunches in tech parks.\",\\n    \"superfluous\": \"The mention of ‘smart commutes’ combining offices with walks is vague without specific Bangalore examples (e.g., Bengaluru Metro’s walking stations). The recommendation to attend ‘cultural events at NCPA’ isn’t directly tied to health benefits and may dilute focus.\"\\n}' additional_kwargs={} response_metadata={} tool_calls=[{'name': 'AnswerQuestion', 'args': {'queries': ['Corporate wellness programs in Bangalore 2025', 'Best organic supermarkets for meal prepping in South Bangalore', 'Yoga studio locations in Bangalore with corporate discounts']}, 'id': 'd474363c-6c85-446a-886c-0a2c38715b27', 'type': 'tool_call'}]\n",
      "ToolCallName :: AnswerQuestion\n",
      "This is the response of the Revisor Node :: \n",
      " content='{\\n    \"answer\": \"Maintaining a healthy lifestyle for corporate professionals in Bangalore requires integrating physical, mental, and environmental considerations into a busy schedule. Here’s a revised approach with updated insights: 1. **Nutrition**: Prioritize meal prepping with local organic ingredients from stores like Suggi Naturals or Earth & Organics in South Bangalore [1]. Avoid over-reliance on processed corporate cafeteria food; incorporate South Indian staples like dosa (without ghee) and lentils. Apps like Farm to Table or HungerStation deliver balanced meals [2]. 2. **Exercise**: Leverage Bangalore’s green spaces: Jog or cycle in Cubbon Park or Nandi Hills, but avoid Bellandur Lake during high pollution periods. Join yoga studios like Shubham Yoga Centre (Marathahalli) or Vishwa Poornima Yoga Centre (New Thippasandra), which offer corporate discounts [3]. Use workplace gyms or apps like Nike Training Club for at-home workouts. 3. **Mental Health**: Practice mindfulness via apps like Headspace or attend sessions at Satsang Bhavan. Many companies now offer corporate wellness programs (e.g., HappiZest) with mental health resources [4]. 4. **Work-Life Balance**: Advocate for flexible hours if possible. Use the ‘20-20-20’ rule for eye strain and combine workouts with short breaks during travel. Avoid weekend overcommitment; prioritize low-stress activities like attending rock climbing at Matheran (day trip). 5. **Environmental Adaptation**: Monitor Bengaluru’s seasonal heat and monsoon-related pollution. Stay hydrated with coconut water from local vendors and use air purifiers like Honeywell during peak pollution hours. Avoid outdoor exercising during midday heat. 6. **Corporate Wellness Resources**: Leverage programs like those offered at the Wellbeing at Work Summit India 2025 [5], which highlights HR-led initiatives for stress reduction and holistic wellness. Many firms (e.g., Mindtree, Infosys) provide on-site facilities or subsidies for gym memberships. 7. **Ergonomic Adaptations**: Implement standing desks (e.g., FlexiSpot) or stability ball chairs to combat prolonged sitting. 8. **Cultural Considerations**: Address non-veg meal norms in tech parks by suggesting alternatives like lentil-based dishes or pre-approved meal delivery apps to maintain dietary goals.\",\\n    \"missing\": \"The answer still lacks quantified data on pollution trends (e.g., AQI thresholds, seasonal heat intensity) and specific examples of cultural challenges (e.g., office lunch practices). It also doesn’t address how non-veg meal norms in tech parks impact health goals.\",\\n    \"superfluous\": \"Removed vague references to ‘cultural events’ and unverified examples like NCPA. Streamlined recommendations to focus on actions directly tied to health outcomes, like structured yoga studios with corporate discounts.\",\\n    \"references\": [\\n        \"[1] https://www.justdial.com/Bangalore/Organic-Grocery-Stores/nct-11614155\",\\n        \"[2] https://www.quora.com/Where-can-I-buy-organic-fruits-and-vegetables-in-Bangalore\",\\n        \"[3] https://www.sulekha.com/yoga-classes-for-corporates/bangalore\",\\n        \"[4] https://happizest.happiesthealth.com/\",\\n        \"[5] https://wellbeingatwork.world/summit/wellbeing-at-work-summit-india-2025/\"\\n    ]\\n}' additional_kwargs={} response_metadata={} tool_calls=[{'name': 'ReviseAnswer', 'args': {'queries': ['Bengaluru pollution index 2025 monsoon season', 'Non-veg meal alternatives in Bangalore corporate offices', 'Corporate wellness program participation rates 2025 in India']}, 'id': 'a382f066-e7a4-4759-bf7a-2faf1f089920', 'type': 'tool_call'}]\n",
      "ToolCallName :: ReviseAnswer\n",
      "This is the response of the Revisor Node :: \n",
      " content='{\\n    \"answer\": \"Maintaining a healthy lifestyle for corporate professionals in Bangalore requires integrating physical, mental, and environmental considerations into a busy schedule. Here’s a revised approach with updated insights: 1. **Nutrition**: Opt for organic ingredients from Suggi Naturals or Earth & Organics in South Bangalore [1]. Apps like Homeal and WorkFood offer customizable corporate meals, including non-veg options with balanced nutrition, such as biryani and tandoori items [2][3]. 2. **Exercise**: During monsoons, when AQI averages 83 (44% PM2.5 from transport) [4], prioritize indoor workouts or use air quality apps to plan outdoor activities. 3. **Mental Health**: With 85% of large Indian companies offering wellness programs [5], leverage employer-sponsored mental health resources, including stress-reduction workshops and mindfulness training. 4. **Environmental Adaptation**: Avoid jogging during peak monsoon pollution (PM2.5: 26 µg/m³; PM10: 82 µg/m³) [4] and use masks if outdoors. 5. **Corporate Wellness**: Programs save businesses up to $20 billion annually in India [5], with 54% of small businesses adopting wellness initiatives [6]. 6. **Cultural Considerations**: WorkFood’s Friday specials include non-veg Chinese and Tandoor items [3], while Chetana Foods provides regional Karnataka non-veg meals [7].\",\\n    \"missing\": \"The added quantified pollution data and non-veg alternatives were not fully utilized. The superfluous information critique should note the removal of vague examples.\",\\n    \"superfluous\": \"Ensure that all recommendations are directly tied to the provided data points. Remove any superfluous information, such as cultural events without specific details.\",\\n    \"references\": [\\n        \"Homeal - Corporate Meals in Bangalore [2]\",\\n        \"WorkFood Corporate Catering [3]\",\\n        \"Chetana Foods - Bengaluru Special Nonveg Meals [7]\",\\n        \"Bengaluru monsoon AQI data [4]\",\\n        \"India corporate wellness market 2025 [5]\",\\n        \"Asia wellness program statistics [6]\"\\n    ]\\n}' additional_kwargs={} response_metadata={} tool_calls=[{'name': 'ReviseAnswer', 'args': {'queries': ['Non-veg meal alternatives in Bangalore corporate offices: specific examples from WorkFood/Chetana Foods', 'Quantified corporate wellness ROI in South India for 2025', 'Monsoon AQI trends in Bengaluru 2025 and health impacts', 'Customizable corporate meal providers in Bangalore with dietary certifications']}, 'id': '6b5cc262-c229-4e43-9c12-98c71539c6eb', 'type': 'tool_call'}]\n"
     ]
    }
   ],
   "source": [
    "response = app.invoke({\n",
    "    \"messages\": [HumanMessage(\"what are the ways to maintain a healthy lifestyle in bangalore for corporate professionals\")]\n",
    "}\n",
    ")"
   ]
  },
  {
   "cell_type": "code",
   "execution_count": 21,
   "id": "ceca84c6-5fba-4c28-87fe-3c2fbeed2e31",
   "metadata": {
    "scrolled": true
   },
   "outputs": [
    {
     "name": "stdout",
     "output_type": "stream",
     "text": [
      "<think>\n",
      "\n",
      "</think>\n",
      "\n",
      "**🎥 VIRAL YOUTUBE VIDEO SCRIPT: \"How to Stay Healthy as a Corporate Professional in Bangalore in 2025\" 📍**  \n",
      "**🎯 FOR YouTube / Instagram Reels / Shorts**  \n",
      "**⏱️ Duration: 6-7 minutes**  \n",
      "**🎵 BGM: Upbeat Indie Pop / Motivational Beat**  \n",
      "**✨ Hashtags: #HealthInBengaluru #WorkLifeBalance #CorporateWellness #BengaluruLife #HealthyProfessionals #MindAndBodyBalance2025**\n",
      "\n",
      "---\n",
      "\n",
      "**[OPENING SCENE – 0:00 to 0:15]**  \n",
      "**🎵 Music starts with a high-energy beat.**  \n",
      "**🎬 Quick shots: Busy corporate professionals in Bengaluru, traffic, office setups.**  \n",
      "**🎤 VOICEOVER / ON-SCREEN TEXT:**  \n",
      "_\"Working in Corporate Bangalore? You’re not alone. But staying healthy in a fast-paced city like this is a real challenge. Let’s crack the code on what it takes to live a healthy, balanced life in 2025.\"_\n",
      "\n",
      "---\n",
      "\n",
      "**[SECTION 1: NUTRITION – 0:16 to 1:30]**  \n",
      "**🎬 Footage of healthy meals, organic stores like Suggi Naturals, and meal delivery services.**  \n",
      "**🎤 VOICEOVER (exciting tone):**  \n",
      "_\"Let’s start with food – the fuel of your day. In 2025, Bangalore professionals are ditching processed office food and embracing organic, home-made meals. Stores like **Suggi Naturals** and **Earth & Organics** in South Bangalore are the go-to spots for fresh, organic goods. Why settle for cafeteria fare?\"_  \n",
      "\n",
      "💥 **Text on screen:**  \n",
      "_\"Pro Tip: Use apps like **Homeal** and **WorkFood** to get balanced, customizable meals. Yes, even non-veg! Try their Friday specials – biryani, Tandoor, and Karnataka-style non-veg meals that satisfy cravings without crashing your energy.\"_\n",
      "\n",
      "---\n",
      "\n",
      "**[SECTION 2: STAYING ACTIVE – 1:30 to 2:30]**  \n",
      "**🎬 Footage of jogging in Cubbon Park, cycling in Nandi Hills, yoga sessions.**  \n",
      "**🎤 VOICEOVER (motivational):**  \n",
      "_\"Bangalore is full of green spaces, but don’t hit the road without checking the air! Right now, the city’s **AQI is 83** – still moderate, but not always perfect. Monsoons bring out even higher pollution from transport (contributing 44% of PM2.5 levels) [Source: Bengaluru Mirror 2025]._  \n",
      "\n",
      "💥 **Text on screen:**  \n",
      "_\"Use an air quality app to plan outdoor workouts. If it's bad, hit the office gym or do at-home workouts via **Nike Training Club**. Don’t want to skip a beat? Try yoga at **Shubham Yoga Centre** or **Vishwa Poornima Yoga Centre** – they offer corporate rates!\"_\n",
      "\n",
      "---\n",
      "\n",
      "**[SECTION 3: MENTAL WELLNESS – 2:30 to 3:30]**  \n",
      "**🎬 Footage of meditation sessions, Headspace app, employees relaxing.**  \n",
      "**🎤 VOICEOVER (calm and thoughtful):**  \n",
      "_\"Your mental game is just as important. Did you know **85% of large companies in India** now offer wellness services, including mental health support and mindfulness training? [Source: Truworth Wellness 2025]_\n",
      "\n",
      "💡 **Pro Tip:**  \n",
      "_\"Use **Headspace** or apps like **HappiZest** for guided meditations. And ask your company about wellness programs – many offer free sessions to reduce stress and boost focus.\"_\n",
      "\n",
      "---\n",
      "\n",
      "**[SECTION 4: WORK-LIFE BALANCE – 3:30 to 4:30]**  \n",
      "**🎬 Quick clips of office workers, commute, relaxing at home.**  \n",
      "**🎤 VOICEOVER (uplifting):**  \n",
      "_\"Here’s the secret: you can’t be 100% in both work and life. That’s why the **#WorkLifeBalance** trend is on fire this year. Start with small wins: take a 10-minute walk at noon, set a strict cut-off for after-work emails, or try the **52-17 rule** – work 52 hours a week, but take 17 for you.\"_\n",
      "\n",
      "---\n",
      "\n",
      "**[SECTION 5: CORPORATE WELLNESS – 4:30 to 5:30]**  \n",
      "**🎬 Footage of team yoga in office, healthy snacks, wellness events.**  \n",
      "**🎤 VOICEOVER (enthusiastic):**  \n",
      "_\"Here’s the big one: **Corporate Wellness** is now a key part of your job. In fact, well-designed wellness programs in India save businesses up to **$20 billion yearly**. That’s not just a number — it means companies are seriously investing in your well-being.\"_\n",
      "\n",
      "💥 **Text on screen:**  \n",
      "_\"Ask your HR about:  \n",
      "✅ Gym memberships  \n",
      "✅ Nutritional meals  \n",
      "✅ Mental health workshops  \n",
      "✅ Flexi-time for workouts or family time\"_\n",
      "\n",
      "---\n",
      "\n",
      "**[SECTION 6: CULTURE & LOCAL FLAVORS – 5:30 to 6:10]**  \n",
      "**🎬 Footage of non-veg meals like biryani, Chetana Foods, WorkFood's \"Friday Specials\".**  \n",
      "**🎤 VOICEOVER (fun tone):**  \n",
      "_\"You don’t have to skip your favorite meals just to stay healthy. Ditch the guilt! Restaurants like **Chetana Foods** give you regional non-veg meals done right. And **WorkFood** brings you Friday Specials with Tandoor and Chinese dishes — healthy, happy, and hygienically prepared!\"_\n",
      "\n",
      "---\n",
      "\n",
      "**[CLOSING – 6:10 to 7:00]**  \n",
      "**🎬 Inspirational shots: happy professionals at work, yoga, healthy meals.**  \n",
      "**🎤 VOICEOVER (encouraging):**  \n",
      "_\"Living well in Corporate Bangalore isn’t a myth. It’s a choice. Choose health. Choose balance. And don’t forget — you are worth the effort. Share your top health hack in the comments and let’s stay on top of our game, together.\"_  \n",
      "\n",
      "**🎯 On-screen text: \"Like, Subscribe, and turn on notifications for more life hacks like this!\"**  \n",
      "**🎵 Music fades out with a hopeful note.**\n",
      "\n",
      "---\n",
      "\n",
      "**🚀 Instagram Reels/Shorts Edit Summary**  \n",
      "**⏱️ 60-90 secs**  \n",
      "- Snappy cuts of meals, workouts, meditation.  \n",
      "- Text overlays: _\"85% companies offer wellness programs\"_ / _\"AQI 83: Plan your outdoor workouts\"_ / _\"Non-veg meals that work for you!\"_  \n",
      "- End with CTA: _\"Follow for more health hacks from Bengaluru!\"_  \n",
      "**🎵 Music: Trending TikTok/Instagram beat.**  \n",
      "\n",
      "---\n",
      "\n",
      "🔥 **Viral Hook for Instagram Caption:**  \n",
      "_\"Working in Bengaluru and still want your health on point? You’re NOT alone. Watch this to get the 2025 formula for staying healthy in busy cities. 💚 #BengaluruLife #CorporateWellness #HealthyProfessionals2025\"_\n",
      "\n",
      "Let me know if you want thumbnails or script cards for video editing tools like Canva or CapCut!\n"
     ]
    }
   ],
   "source": [
    "print(response['messages'][-1].content)"
   ]
  }
 ],
 "metadata": {
  "kernelspec": {
   "display_name": ".env-llm-finetuning",
   "language": "python",
   "name": ".env-llm-finetuning"
  },
  "language_info": {
   "codemirror_mode": {
    "name": "ipython",
    "version": 3
   },
   "file_extension": ".py",
   "mimetype": "text/x-python",
   "name": "python",
   "nbconvert_exporter": "python",
   "pygments_lexer": "ipython3",
   "version": "3.12.9"
  }
 },
 "nbformat": 4,
 "nbformat_minor": 5
}
